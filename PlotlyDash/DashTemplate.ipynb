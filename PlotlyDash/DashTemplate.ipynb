{
 "cells": [
  {
   "cell_type": "code",
   "execution_count": 2,
   "metadata": {},
   "outputs": [
    {
     "data": {
      "text/html": [
       "\n",
       "        <iframe\n",
       "            width=\"100%\"\n",
       "            height=\"650\"\n",
       "            src=\"http://127.0.0.1:8050/\"\n",
       "            frameborder=\"0\"\n",
       "            allowfullscreen\n",
       "            \n",
       "        ></iframe>\n",
       "        "
      ],
      "text/plain": [
       "<IPython.lib.display.IFrame at 0x30b9e3560>"
      ]
     },
     "metadata": {},
     "output_type": "display_data"
    }
   ],
   "source": [
    "import dash\n",
    "from dash import dcc, html\n",
    "from dash.dependencies import Input, Output\n",
    "import plotly.express as px\n",
    "import pandas as pd\n",
    "\n",
    "# Sample data\n",
    "df = pd.DataFrame({\n",
    "    'Month': ['January', 'February', 'March', 'April', 'May', 'June'],\n",
    "    'Sales': [10, 20, 30, 40, 50, 60],\n",
    "    'Expenses': [8, 18, 28, 38, 48, 58]\n",
    "})\n",
    "\n",
    "# Initialize the Dash app\n",
    "app = dash.Dash(__name__)\n",
    "\n",
    "# Layout of the dashboard\n",
    "app.layout = html.Div([\n",
    "    html.H1('Sales and Expenses Dashboard'),\n",
    "    \n",
    "    dcc.Tabs([\n",
    "        dcc.Tab(label='Line Chart', children=[\n",
    "            dcc.Graph(id='line-chart')\n",
    "        ]),\n",
    "        dcc.Tab(label='Bar Chart', children=[\n",
    "            dcc.Graph(id='bar-chart')\n",
    "        ])\n",
    "    ])\n",
    "])\n",
    "\n",
    "# Callback to update the line chart\n",
    "@app.callback(\n",
    "    Output('line-chart', 'figure'),\n",
    "    Input('line-chart', 'id')\n",
    ")\n",
    "def update_line_chart(_):\n",
    "    fig = px.line(df, x='Month', y='Sales', title='Monthly Sales')\n",
    "    return fig\n",
    "\n",
    "# Callback to update the bar chart\n",
    "@app.callback(\n",
    "    Output('bar-chart', 'figure'),\n",
    "    Input('bar-chart', 'id')\n",
    ")\n",
    "def update_bar_chart(_):\n",
    "    fig = px.bar(df, x='Month', y='Expenses', title='Monthly Expenses')\n",
    "    return fig\n",
    "\n",
    "# Run the app\n",
    "if __name__ == '__main__':\n",
    "    app.run_server(debug=True)"
   ]
  },
  {
   "cell_type": "code",
   "execution_count": null,
   "metadata": {},
   "outputs": [],
   "source": []
  }
 ],
 "metadata": {
  "kernelspec": {
   "display_name": "Python 3",
   "language": "python",
   "name": "python3"
  },
  "language_info": {
   "codemirror_mode": {
    "name": "ipython",
    "version": 3
   },
   "file_extension": ".py",
   "mimetype": "text/x-python",
   "name": "python",
   "nbconvert_exporter": "python",
   "pygments_lexer": "ipython3",
   "version": "3.12.3"
  }
 },
 "nbformat": 4,
 "nbformat_minor": 2
}
